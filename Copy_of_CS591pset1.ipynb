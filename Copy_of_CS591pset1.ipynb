{
  "nbformat": 4,
  "nbformat_minor": 0,
  "metadata": {
    "accelerator": "GPU",
    "colab": {
      "name": "Copy of CS591pset1.ipynb",
      "provenance": [],
      "collapsed_sections": [],
      "toc_visible": true,
      "include_colab_link": true
    },
    "kernelspec": {
      "display_name": "Python 3",
      "name": "python3"
    }
  },
  "cells": [
    {
      "cell_type": "markdown",
      "metadata": {
        "id": "view-in-github",
        "colab_type": "text"
      },
      "source": [
        "<a href=\"https://colab.research.google.com/github/prudhvi144/CNTK/blob/master/Copy_of_CS591pset1.ipynb\" target=\"_parent\"><img src=\"https://colab.research.google.com/assets/colab-badge.svg\" alt=\"Open In Colab\"/></a>"
      ]
    },
    {
      "cell_type": "markdown",
      "metadata": {
        "id": "9XHd5ExbUIUg"
      },
      "source": [
        "# CS591 Homework 1\n",
        "In this homework assignment we will be investigating the effect of different metric learning methods on a multimodal task.  The questions for this assignment are at the end of this notebook.  You are expected to generate a pdf as well as submit your code.\n",
        "\n",
        "For this assignment we are using [Pytorch](https://pytorch.org/), but you can use a different framework if you would prefer."
      ]
    },
    {
      "cell_type": "code",
      "metadata": {
        "id": "Su0COdCqT2Wk"
      },
      "source": [
        "import torch\n",
        "import torch.nn as nn\n",
        "import torch.nn.functional as F\n",
        "import torchvision\n",
        "import torchvision.transforms as transforms"
      ],
      "execution_count": null,
      "outputs": []
    },
    {
      "cell_type": "code",
      "metadata": {
        "colab": {
          "base_uri": "https://localhost:8080/"
        },
        "id": "rXCYmmjyVRq5",
        "outputId": "58f09677-9de5-4911-8c99-062cd9927e43"
      },
      "source": [
        "print(torch.__version__)"
      ],
      "execution_count": null,
      "outputs": [
        {
          "output_type": "stream",
          "text": [
            "1.7.1+cu101\n"
          ],
          "name": "stdout"
        }
      ]
    },
    {
      "cell_type": "markdown",
      "metadata": {
        "id": "hhuQyU7AYE6K"
      },
      "source": [
        "## Sentences 3D dataset\n",
        "For this homework assignment we will be investing a problem that relates images, language, and depth information.  Each rgb-d image is described by one or more sentences.  Each noun in the sentences has its location annotated in the image.  You can browse some examples [here](http://www.cs.toronto.edu/~fidler/projects/sentences3Ddataset_1.html).\n",
        "\n",
        "The task we will be solving is matching the annotated image regions to the phrases.  At test time we can assume we have annotations that match phrases to regions, i.e., this is a supervised learning task.  The first step is to download the required datasets.  This may need to be redone every time you connect to a colab instance."
      ]
    },
    {
      "cell_type": "code",
      "metadata": {
        "colab": {
          "base_uri": "https://localhost:8080/"
        },
        "id": "UCunICyY0L-j",
        "outputId": "2b66b63f-7fb4-4d47-d8c9-d5eef5500799"
      },
      "source": [
        "!wget http://www.cs.toronto.edu/~fidler/data/sentencesNYU.zip\r\n",
        "\r\n",
        "!wget --load-cookies /tmp/cookies.txt \"https://docs.google.com/uc?export=download&confirm=$(wget --quiet --save-cookies /tmp/cookies.txt --keep-session-cookies --no-check-certificate 'https://docs.google.com/uc?export=download&id=1dzQsK3QlWgp_MeTFYt-zUMCizpvZxASQ' -O- | sed -rn 's/.*confirm=([0-9A-Za-z_]+).*/\\1\\n/p')&id=1dzQsK3QlWgp_MeTFYt-zUMCizpvZxASQ\" -O nyu_depth.zip && rm -rf /tmp/cookies.txt\r\n",
        "\r\n",
        "import zipfile\r\n",
        "\r\n",
        "with zipfile.ZipFile('sentencesNYU.zip', 'r') as zip_ref:\r\n",
        "    zip_ref.extractall()\r\n",
        "with zipfile.ZipFile('nyu_depth.zip', 'r') as zip_ref:\r\n",
        "    zip_ref.extractall('data')"
      ],
      "execution_count": null,
      "outputs": [
        {
          "output_type": "stream",
          "text": [
            "--2021-03-05 04:19:45--  http://www.cs.toronto.edu/~fidler/data/sentencesNYU.zip\n",
            "Resolving www.cs.toronto.edu (www.cs.toronto.edu)... 128.100.3.30\n",
            "Connecting to www.cs.toronto.edu (www.cs.toronto.edu)|128.100.3.30|:80... connected.\n",
            "HTTP request sent, awaiting response... 200 OK\n",
            "Length: 86035342 (82M) [application/zip]\n",
            "Saving to: ‘sentencesNYU.zip.1’\n",
            "\n",
            "sentencesNYU.zip.1  100%[===================>]  82.05M  14.9MB/s    in 6.6s    \n",
            "\n",
            "2021-03-05 04:19:51 (12.4 MB/s) - ‘sentencesNYU.zip.1’ saved [86035342/86035342]\n",
            "\n",
            "--2021-03-05 04:19:52--  https://docs.google.com/uc?export=download&confirm=LKud&id=1dzQsK3QlWgp_MeTFYt-zUMCizpvZxASQ\n",
            "Resolving docs.google.com (docs.google.com)... 172.217.164.142, 2607:f8b0:4004:815::200e\n",
            "Connecting to docs.google.com (docs.google.com)|172.217.164.142|:443... connected.\n",
            "HTTP request sent, awaiting response... 302 Moved Temporarily\n",
            "Location: https://doc-08-7k-docs.googleusercontent.com/docs/securesc/4h38g4s11ekgkk0kkhoc95djs8q7ns0k/5ti7sh15rfhg5i0fgmh6gtjqkqevibai/1614917925000/16959996596808468099/03748004665290635555Z/1dzQsK3QlWgp_MeTFYt-zUMCizpvZxASQ?e=download [following]\n",
            "--2021-03-05 04:19:52--  https://doc-08-7k-docs.googleusercontent.com/docs/securesc/4h38g4s11ekgkk0kkhoc95djs8q7ns0k/5ti7sh15rfhg5i0fgmh6gtjqkqevibai/1614917925000/16959996596808468099/03748004665290635555Z/1dzQsK3QlWgp_MeTFYt-zUMCizpvZxASQ?e=download\n",
            "Resolving doc-08-7k-docs.googleusercontent.com (doc-08-7k-docs.googleusercontent.com)... 172.217.7.129, 2607:f8b0:4004:805::2001\n",
            "Connecting to doc-08-7k-docs.googleusercontent.com (doc-08-7k-docs.googleusercontent.com)|172.217.7.129|:443... connected.\n",
            "HTTP request sent, awaiting response... 302 Found\n",
            "Location: https://docs.google.com/nonceSigner?nonce=l6qm0vh4iukv6&continue=https://doc-08-7k-docs.googleusercontent.com/docs/securesc/4h38g4s11ekgkk0kkhoc95djs8q7ns0k/5ti7sh15rfhg5i0fgmh6gtjqkqevibai/1614917925000/16959996596808468099/03748004665290635555Z/1dzQsK3QlWgp_MeTFYt-zUMCizpvZxASQ?e%3Ddownload&hash=ai1ocg18kmdfenbkl2c2eudpo4t24fos [following]\n",
            "--2021-03-05 04:19:52--  https://docs.google.com/nonceSigner?nonce=l6qm0vh4iukv6&continue=https://doc-08-7k-docs.googleusercontent.com/docs/securesc/4h38g4s11ekgkk0kkhoc95djs8q7ns0k/5ti7sh15rfhg5i0fgmh6gtjqkqevibai/1614917925000/16959996596808468099/03748004665290635555Z/1dzQsK3QlWgp_MeTFYt-zUMCizpvZxASQ?e%3Ddownload&hash=ai1ocg18kmdfenbkl2c2eudpo4t24fos\n",
            "Connecting to docs.google.com (docs.google.com)|172.217.164.142|:443... connected.\n",
            "HTTP request sent, awaiting response... 302 Found\n",
            "Location: https://doc-08-7k-docs.googleusercontent.com/docs/securesc/4h38g4s11ekgkk0kkhoc95djs8q7ns0k/5ti7sh15rfhg5i0fgmh6gtjqkqevibai/1614917925000/16959996596808468099/03748004665290635555Z/1dzQsK3QlWgp_MeTFYt-zUMCizpvZxASQ?e=download&nonce=l6qm0vh4iukv6&user=03748004665290635555Z&hash=n8fglb69l85s132a80hrcu3v7khb5fef [following]\n",
            "--2021-03-05 04:19:52--  https://doc-08-7k-docs.googleusercontent.com/docs/securesc/4h38g4s11ekgkk0kkhoc95djs8q7ns0k/5ti7sh15rfhg5i0fgmh6gtjqkqevibai/1614917925000/16959996596808468099/03748004665290635555Z/1dzQsK3QlWgp_MeTFYt-zUMCizpvZxASQ?e=download&nonce=l6qm0vh4iukv6&user=03748004665290635555Z&hash=n8fglb69l85s132a80hrcu3v7khb5fef\n",
            "Connecting to doc-08-7k-docs.googleusercontent.com (doc-08-7k-docs.googleusercontent.com)|172.217.7.129|:443... connected.\n",
            "HTTP request sent, awaiting response... 200 OK\n",
            "Length: unspecified [application/zip]\n",
            "Saving to: ‘nyu_depth.zip’\n",
            "\n",
            "nyu_depth.zip           [  <=>               ]  27.27M   107MB/s    in 0.3s    \n",
            "\n",
            "2021-03-05 04:19:52 (107 MB/s) - ‘nyu_depth.zip’ saved [28598092]\n",
            "\n"
          ],
          "name": "stdout"
        }
      ]
    },
    {
      "cell_type": "code",
      "metadata": {
        "colab": {
          "base_uri": "https://localhost:8080/"
        },
        "id": "tSjjLXrOVWBy",
        "outputId": "f083cc01-03bf-4d62-af9f-3918601c1359"
      },
      "source": [
        "import os, re, scipy.io\n",
        "import numpy as np\n",
        "from collections import Counter\n",
        "from PIL import Image\n",
        "\n",
        "data_path = 'data'\n",
        "class DatasetLoader(torch.utils.data.Dataset):\n",
        "    \"\"\" Dataset loader class that loads feature matrices from given paths and\n",
        "        create shuffled batch for training, unshuffled batch for evaluation.\n",
        "    \"\"\"\n",
        "    def __init__(self, split='train', vocab=None, transform=None):\n",
        "      self.transform = transform\n",
        "      if split == 'train':\n",
        "        im_ids = [str(im_id+1).zfill(4) for im_id in range(1049)]\n",
        "      elif split == 'test':\n",
        "        im_ids = [str(im_id+1).zfill(4) for im_id in range(1049, 1249)]\n",
        "      else:\n",
        "        im_ids = [str(im_id+1).zfill(4) for im_id in range(1249, 1449)]\n",
        "      \n",
        "      annos = []\n",
        "      all_words = Counter()\n",
        "      for im_id in im_ids:\n",
        "        f_gt = scipy.io.loadmat(os.path.join(data_path, \"descriptions_gt\", 'gt' + im_id + \".mat\"))\n",
        "        f = scipy.io.loadmat(os.path.join(data_path, \"descriptions\", im_id + \".mat\"))\n",
        "        bboxes = f['annotation']['bboxes'][0][0]\n",
        "        inds = f['annotation']['descriptions'][0][0][0][0][-1]\n",
        "        words = f_gt['noun'][0]\n",
        "        phrases_seen = set()\n",
        "        for word, ind in zip(words, inds):\n",
        "          if not ind:\n",
        "              continue\n",
        "\n",
        "          phrase = [str(w[0][0]) for w in word['adj'][0][0]]\n",
        "          phrase.append(str(word['word'][0][0][0]))\n",
        "          if split != 'train':\n",
        "            p = ' '.join(phrase)\n",
        "            if p in phrases_seen:\n",
        "              continue\n",
        "\n",
        "            phrases_seen.add(p)\n",
        "\n",
        "          ind = str(ind[0][0]).split(',')\n",
        "          if len(ind) == 1:\n",
        "            if ind[0] in ['q','q8','2-']:\n",
        "              continue\n",
        "\n",
        "            ind = ind[0].split()\n",
        "      \n",
        "          tmp = [int(i)-1 for i in ind if i and ':' not in i]\n",
        "          for i in ind:\n",
        "            if ':' in i:\n",
        "              start, end = i.split(':')\n",
        "              tmp += list(range(int(start), int(end)))\n",
        "\n",
        "          ind = tmp\n",
        "          boxes = np.array(bboxes[ind], np.int)\n",
        "          boxes[:, 2] += boxes[:, 0]\n",
        "          boxes[:, 3] += boxes[:, 1]\n",
        "          gt_box = [min(boxes[:, 0]), min(boxes[:, 1]), max(boxes[:, 2]), max(boxes[:, 3])]\n",
        "          annos.append((im_id, gt_box, phrase))\n",
        "          all_words.update(phrase)\n",
        "                           \n",
        "      if split == 'train':\n",
        "        vocab = [word for word, cnt in all_words.most_common() if cnt >= 3]\n",
        "        vocab = dict(zip(vocab, range(1, len(vocab) + 1)))\n",
        "        self.vocab = vocab\n",
        "        print('Vocab Size: ', len(vocab), 'Number of filtered words: ', len(all_words) - len(vocab))\n",
        "\n",
        "      self.annos = []\n",
        "      for im_id, gt_box, phrase in annos:\n",
        "        inds = [vocab[word] for word in phrase if word in vocab]\n",
        "        self.annos.append((im_id, gt_box, inds))\n",
        "\n",
        "      self.im_ids = im_ids\n",
        "\n",
        "    def __len__(self):\n",
        "      return len(self.annos)\n",
        "\n",
        "    def load_image(self, fn, gt_box):\n",
        "      image = Image.open(fn).convert(\"RGB\").crop(gt_box)\n",
        "      if self.transform:\n",
        "          image = self.transform(image)\n",
        "\n",
        "      return image\n",
        "\n",
        "    def __getitem__(self, index):\n",
        "      im_id, gt_box, inds = self.annos[index]\n",
        "      depth_image = self.load_image(os.path.join(data_path, 'depth', im_id + '.jpg'), gt_box)\n",
        "      rgb_image = self.load_image(os.path.join(data_path, 'images', im_id + '.jpg'), gt_box)\n",
        "      phrases = np.zeros(2, np.int64)\n",
        "      phrases[:len(inds)] = inds\n",
        "      return rgb_image, depth_image, phrases\n",
        "\n",
        "BATCH_SIZE = 12\n",
        "\n",
        "\n",
        "\n",
        "## transformations\n",
        "transform = transforms.Compose(\n",
        "    [transforms.Resize([128, 128]),\n",
        "     transforms.ToTensor(),\n",
        "     transforms.Normalize([0.485, 0.456, 0.406], [0.229, 0.224, 0.225])])\n",
        "\n",
        "## download and load training dataset\n",
        "trainloader = torch.utils.data.DataLoader(DatasetLoader(transform=transform), batch_size=BATCH_SIZE,\n",
        "                                          shuffle=True, num_workers=2)\n",
        "\n",
        "## download and load testing dataset\n",
        "vocab = trainloader.dataset.vocab\n",
        "testloader = torch.utils.data.DataLoader(DatasetLoader('test', vocab, transform), batch_size=BATCH_SIZE,\n",
        "                                         shuffle=False, num_workers=2)\n",
        "valloader = torch.utils.data.DataLoader(DatasetLoader('val', vocab, transform), batch_size=BATCH_SIZE,\n",
        "                                         shuffle=False, num_workers=2)"
      ],
      "execution_count": null,
      "outputs": [
        {
          "output_type": "stream",
          "text": [
            "/usr/local/lib/python3.7/dist-packages/ipykernel_launcher.py:30: DeprecationWarning: The truth value of an empty array is ambiguous. Returning False, but in future this will result in an error. Use `array.size > 0` to check that an array is not empty.\n"
          ],
          "name": "stderr"
        },
        {
          "output_type": "stream",
          "text": [
            "Vocab Size:  337 Number of filtered words:  673\n"
          ],
          "name": "stdout"
        }
      ]
    },
    {
      "cell_type": "markdown",
      "metadata": {
        "id": "0nZwZukWXUDn"
      },
      "source": [
        "## Looking at the data\n",
        "The data loader is setup to return cropped image regions, their corresponding depth map, and indices for each word in the vocabularly.  The vocabularly is automatically built based off of words in the training set that occur at least three times. This means that there are a number of words that we won't support at test time.  For a threshold of requiring at least three occurrences of words it means that 676 out of 1100 words are actually filtered.  This exemplifies the very long-tailed distribution of words that occurs in language. You may want to test different thresholds to see its effect on performance.\n",
        "\n",
        "Below we can see the output of some of the images regions and their corresponding depth maps."
      ]
    },
    {
      "cell_type": "code",
      "metadata": {
        "colab": {
          "base_uri": "https://localhost:8080/",
          "height": 195
        },
        "id": "zWd9Pt1Ca6K9",
        "outputId": "18598de5-eb53-4fb7-e87a-f014d1d21a49"
      },
      "source": [
        "import matplotlib.pyplot as plt\n",
        "import numpy as np\n",
        "\n",
        "## functions to show an image\n",
        "def imshow(img):\n",
        "    #img = img / 2 + 0.5     # unnormalize\n",
        "    npimg = img.numpy()\n",
        "    plt.imshow(np.transpose(npimg, (1, 2, 0)))\n",
        "\n",
        "## get some random training images\n",
        "dataiter = iter(trainloader)\n",
        "images, depth, _ = dataiter.next()\n",
        "images = torch.cat((images, depth), 0)\n",
        "## show images\n",
        "imshow(torchvision.utils.make_grid(images))"
      ],
      "execution_count": null,
      "outputs": [
        {
          "output_type": "stream",
          "text": [
            "Clipping input data to the valid range for imshow with RGB data ([0..1] for floats or [0..255] for integers).\n"
          ],
          "name": "stderr"
        },
        {
          "output_type": "display_data",
          "data": {
            "image/png": "[encoded data removed]",
            "text/plain": [
              "<Figure size 432x288 with 1 Axes>"
            ]
          },
          "metadata": {
            "tags": [],
            "needs_background": "light"
          }
        }
      ]
    },
    {
      "cell_type": "markdown",
      "metadata": {
        "id": "tmaCTw5tXowR"
      },
      "source": [
        "## Defining the model\n",
        "Below we have a baseline model that uses a pretrained ResNet18 model to encode the image regions.  It represents each word as a 128 dimensional vector that it trains from scratch along with a two-layer perceptron to project it into the same dimensions as the visual features.\n",
        "\n",
        "You could test different similarity functions to help improve performance. You will notice that the depth information isn't being used in the current model, and you will be asked to develop a new approach for integrating it in the model."
      ]
    },
    {
      "cell_type": "code",
      "metadata": {
        "id": "_IYnV4ZBa3cJ"
      },
      "source": [
        "import torchvision.models as models\n",
        "\n",
        "def image_forward(model, proj, x):\n",
        "  x = model(x).view(len(x), -1)\n",
        "  return proj(x)\n",
        "\n",
        "class MultimodalModel(nn.Module):\n",
        "    def __init__(self, vocab_length):\n",
        "        super(MultimodalModel, self).__init__()\n",
        "\n",
        "        # image encoder\n",
        "        model = models.resnet18(pretrained=True)\n",
        "\n",
        "        feature_size = 64\n",
        "        # remove the final fully connected layer\n",
        "        self.cnn = torch.nn.Sequential(*(list(model.children())[:-1]))\n",
        "        self.image_proj = nn.Linear(512, feature_size)\n",
        "\n",
        "        word_embedding_size = 128\n",
        "        self.word_features = torch.nn.Embedding(vocab_length, word_embedding_size)\n",
        "        \n",
        "        latent_size = 256\n",
        "        self.phrase_mlp = nn.Sequential(nn.Linear(word_embedding_size, latent_size),\n",
        "                              nn.BatchNorm1d(latent_size),\n",
        "                              nn.ReLU(inplace=True),\n",
        "                              nn.Dropout(p=0.5),\n",
        "                              nn.Linear(latent_size, feature_size))\n",
        "        \n",
        "    def encode_phrases(self, tokens):\n",
        "      # the tokens are indices that will identify the embedding\n",
        "      # corresponding to a word.  In this codebase we assume index \"0\"\n",
        "      # represents a padding token (i.e., it doesn't correspond to an \n",
        "      # individual word)\n",
        "      words = self.word_features(tokens)\n",
        "\n",
        "      # after getting each word embedding, we represent the entire phrase\n",
        "      # by taking the average\n",
        "      eps = torch.finfo(torch.float32).eps\n",
        "      n_words = torch.sum(tokens > 0, 1).float() + eps\n",
        "      sum_words = words.sum(1).squeeze()\n",
        "      phrases = F.normalize(sum_words / n_words.unsqueeze(1))\n",
        "\n",
        "      # now that we have the phrase features we will pass it through the MLP\n",
        "      phrases = self.phrase_mlp(phrases)\n",
        "      return phrases\n",
        "\n",
        "    def similarity(self, x, y, test=False):\n",
        "      # L2 normalzing features can make training more stable\n",
        "      x, y = F.normalize(x), F.normalize(y)\n",
        "\n",
        "      # We'll build a similarity matrix over all cross-modal pairs\n",
        "      sim = x.mm(y.t())\n",
        "      if test:\n",
        "        # the testing code wants the index of the best match\n",
        "        _, sim = sim.max(0)\n",
        "\n",
        "      return sim\n",
        "\n",
        "    def forward(self, image, depth, words):\n",
        "      image = image_forward(self.cnn, self.image_proj, image)\n",
        "      # image = F.softmax(image)\n",
        "      image =  nn.Softmax(dim=1)(image)\n",
        "      words = self.encode_phrases(words)\n",
        "      return image, words"
      ],
      "execution_count": null,
      "outputs": []
    },
    {
      "cell_type": "markdown",
      "metadata": {
        "id": "9h_3eZQRHV_P"
      },
      "source": [
        "## Training Setup\n",
        "Here we setup the optimizer, learning rate, and number of epochs.  Feel free to change these if you wish."
      ]
    },
    {
      "cell_type": "code",
      "metadata": {
        "id": "44IdrNNeIi_I"
      },
      "source": [
        "learning_rate = 0.0001\n",
        "num_epochs = 25\n",
        "\n",
        "device = torch.device(\"cuda:0\" if torch.cuda.is_available() else \"cpu\")\n",
        "model = MultimodalModel(len(vocab) + 1)\n",
        "model = model.to(device)\n",
        "optimizer = torch.optim.Adam(model.parameters(), lr=learning_rate)\n",
        "\n",
        "## compute accuracy\n",
        "def test_model(model, dataloader):\n",
        "    image_features, phrase_features = [], []\n",
        "    for images, depth, phrases in dataloader:\n",
        "      images = images.to(device)\n",
        "      depth = depth.to(device)\n",
        "      phrases = phrases.to(device)\n",
        "      im_out, phrases_out = model(images, depth, phrases)\n",
        "      image_features.append(im_out.data)\n",
        "      phrase_features.append(phrases_out.data)\n",
        "\n",
        "    image_features, phrase_features = torch.cat(image_features), torch.cat(phrase_features)\n",
        "    last_im = None\n",
        "    num_correct, num_total = 0., 0.\n",
        "    for (im_id, _, _), im_feat, p_feat in zip(dataloader.dataset.annos, image_features, phrase_features):\n",
        "      if last_im is not None and last_im != im_id:\n",
        "        x, y = torch.stack(x), torch.stack(y)\n",
        "        indices = model.similarity(x, y, test=True)\n",
        "        gt = torch.arange(len(indices)).to(device)\n",
        "        num_correct += (indices == gt).sum()\n",
        "        num_total += len(indices)\n",
        "\n",
        "      if last_im is None or last_im != im_id:\n",
        "        x, y = [], []\n",
        "\n",
        "      x.append(im_feat)\n",
        "      y.append(p_feat)      \n",
        "\n",
        "      last_im = im_id\n",
        "    \n",
        "    accuracy = 100.0 * num_correct/num_total\n",
        "    return accuracy.item()"
      ],
      "execution_count": null,
      "outputs": []
    },
    {
      "cell_type": "code",
      "metadata": {
        "colab": {
          "base_uri": "https://localhost:8080/"
        },
        "id": "L1kH5xL83Ddz",
        "outputId": "39662a1c-9874-4308-feab-5d5eb19fcdbf"
      },
      "source": [
        "n=10\r\n",
        "temp = torch.tensor(list(range(1,n*n+1))).reshape(n,n)\r\n",
        "\r\n",
        "# print (temp.diag())\r\n",
        "\r\n",
        "t_out = temp.flatten()[1:].view(n-1, n+1)[:,:-1].reshape(n, n-1)\r\n",
        "\r\n",
        "# print(print(temp.flatten()[1:]))\r\n",
        "# print(temp.flatten()[1:].view(n-1, n+1))\r\n",
        "# print(temp.flatten()[1:].view(n-1, n+1)[:,:-1])\r\n",
        "\r\n",
        "# print(t_out)\r\n",
        "\r\n",
        "print(temp)\r\n",
        "\r\n",
        "rand_int = torch.randint(0,BATCH_SIZE , (3,))\r\n",
        "# skfjjv = t_out[:,rand_int]\r\n",
        "valid_idx  = ( torch.mul( ( temp < 20),  (temp <50))).nonzero()\r\n",
        "print(valid_idx)\r\n",
        "unique_rows = valid_idx[:, 0].unique()\r\n",
        "\r\n",
        "print (\"unique_rows\",unique_rows)\r\n",
        "valid_row_idx = [valid_idx[valid_idx[:, 0] == u] for u in unique_rows]\r\n",
        "ret = []\r\n",
        "for v in valid_row_idx:\r\n",
        "    choice = torch.multinomial(torch.arange(v.size(0)).float(), 1)\r\n",
        "    ret.append(temp[v[choice].squeeze().chunk(2)])\r\n",
        "ret = torch.stack(ret).flatten()\r\n",
        "\r\n",
        "print (ret)\r\n",
        "\r\n"
      ],
      "execution_count": null,
      "outputs": [
        {
          "output_type": "stream",
          "text": [
            "tensor([[  1,   2,   3,   4,   5,   6,   7,   8,   9,  10],\n",
            "        [ 11,  12,  13,  14,  15,  16,  17,  18,  19,  20],\n",
            "        [ 21,  22,  23,  24,  25,  26,  27,  28,  29,  30],\n",
            "        [ 31,  32,  33,  34,  35,  36,  37,  38,  39,  40],\n",
            "        [ 41,  42,  43,  44,  45,  46,  47,  48,  49,  50],\n",
            "        [ 51,  52,  53,  54,  55,  56,  57,  58,  59,  60],\n",
            "        [ 61,  62,  63,  64,  65,  66,  67,  68,  69,  70],\n",
            "        [ 71,  72,  73,  74,  75,  76,  77,  78,  79,  80],\n",
            "        [ 81,  82,  83,  84,  85,  86,  87,  88,  89,  90],\n",
            "        [ 91,  92,  93,  94,  95,  96,  97,  98,  99, 100]])\n",
            "tensor([[0, 0],\n",
            "        [0, 1],\n",
            "        [0, 2],\n",
            "        [0, 3],\n",
            "        [0, 4],\n",
            "        [0, 5],\n",
            "        [0, 6],\n",
            "        [0, 7],\n",
            "        [0, 8],\n",
            "        [0, 9],\n",
            "        [1, 0],\n",
            "        [1, 1],\n",
            "        [1, 2],\n",
            "        [1, 3],\n",
            "        [1, 4],\n",
            "        [1, 5],\n",
            "        [1, 6],\n",
            "        [1, 7],\n",
            "        [1, 8]])\n",
            "unique_rows tensor([0, 1])\n",
            "tensor([ 3, 13])\n"
          ],
          "name": "stdout"
        }
      ]
    },
    {
      "cell_type": "markdown",
      "metadata": {
        "id": "Y0xbfTaiO8Gb"
      },
      "source": [
        "Triplet Loss"
      ]
    },
    {
      "cell_type": "code",
      "metadata": {
        "id": "AMRSbaLxPAyY",
        "colab": {
          "base_uri": "https://localhost:8080/",
          "height": 238
        },
        "outputId": "834b1a76-c7a9-4d9f-d363-d7321a94fd0b"
      },
      "source": [
        "for epoch in range(num_epochs):\r\n",
        "    train_running_loss = 0.0\r\n",
        "    model = model.train()\r\n",
        "\r\n",
        "    ## training step\r\n",
        "    for i, (images, depth, phrases) in enumerate(trainloader):\r\n",
        "        if len(images) == 1:\r\n",
        "          continue\r\n",
        "\r\n",
        "        images = images.to(device)\r\n",
        "        depth = depth.to(device)\r\n",
        "        phrases = phrases.to(device)\r\n",
        "\r\n",
        "\r\n",
        "        im_out, phrases_out = model(images, depth, phrases)\r\n",
        "        sim = model.similarity(im_out, phrases_out)\r\n",
        "        pos = sim.diag()\r\n",
        "        # print(im_out[0])\r\n",
        "        neg  = temp.flatten()[1:].view(BATCH_SIZE-1, BATCH_SIZE+1)[:,:-1].reshape(BATCH_SIZE, BATCH_SIZE-1)\r\n",
        "        \r\n",
        "        break\r\n",
        "    break\r\n"
      ],
      "execution_count": null,
      "outputs": [
        {
          "output_type": "error",
          "ename": "RuntimeError",
          "evalue": "ignored",
          "traceback": [
            "\u001b[0;31m---------------------------------------------------------------------------\u001b[0m",
            "\u001b[0;31mRuntimeError\u001b[0m                              Traceback (most recent call last)",
            "\u001b[0;32m<ipython-input-127-976f87b3d005>\u001b[0m in \u001b[0;36m<module>\u001b[0;34m()\u001b[0m\n\u001b[1;32m     17\u001b[0m         \u001b[0mpos\u001b[0m \u001b[0;34m=\u001b[0m \u001b[0msim\u001b[0m\u001b[0;34m.\u001b[0m\u001b[0mdiag\u001b[0m\u001b[0;34m(\u001b[0m\u001b[0;34m)\u001b[0m\u001b[0;34m\u001b[0m\u001b[0;34m\u001b[0m\u001b[0m\n\u001b[1;32m     18\u001b[0m         \u001b[0;31m# print(im_out[0])\u001b[0m\u001b[0;34m\u001b[0m\u001b[0;34m\u001b[0m\u001b[0;34m\u001b[0m\u001b[0m\n\u001b[0;32m---> 19\u001b[0;31m         \u001b[0mneg\u001b[0m  \u001b[0;34m=\u001b[0m \u001b[0mtemp\u001b[0m\u001b[0;34m.\u001b[0m\u001b[0mflatten\u001b[0m\u001b[0;34m(\u001b[0m\u001b[0;34m)\u001b[0m\u001b[0;34m[\u001b[0m\u001b[0;36m1\u001b[0m\u001b[0;34m:\u001b[0m\u001b[0;34m]\u001b[0m\u001b[0;34m.\u001b[0m\u001b[0mview\u001b[0m\u001b[0;34m(\u001b[0m\u001b[0mBATCH_SIZE\u001b[0m\u001b[0;34m-\u001b[0m\u001b[0;36m1\u001b[0m\u001b[0;34m,\u001b[0m \u001b[0mBATCH_SIZE\u001b[0m\u001b[0;34m+\u001b[0m\u001b[0;36m1\u001b[0m\u001b[0;34m)\u001b[0m\u001b[0;34m[\u001b[0m\u001b[0;34m:\u001b[0m\u001b[0;34m,\u001b[0m\u001b[0;34m:\u001b[0m\u001b[0;34m-\u001b[0m\u001b[0;36m1\u001b[0m\u001b[0;34m]\u001b[0m\u001b[0;34m.\u001b[0m\u001b[0mreshape\u001b[0m\u001b[0;34m(\u001b[0m\u001b[0mBATCH_SIZE\u001b[0m\u001b[0;34m,\u001b[0m \u001b[0mBATCH_SIZE\u001b[0m\u001b[0;34m-\u001b[0m\u001b[0;36m1\u001b[0m\u001b[0;34m)\u001b[0m\u001b[0;34m\u001b[0m\u001b[0;34m\u001b[0m\u001b[0m\n\u001b[0m\u001b[1;32m     20\u001b[0m \u001b[0;34m\u001b[0m\u001b[0m\n\u001b[1;32m     21\u001b[0m         \u001b[0;32mbreak\u001b[0m\u001b[0;34m\u001b[0m\u001b[0;34m\u001b[0m\u001b[0m\n",
            "\u001b[0;31mRuntimeError\u001b[0m: shape '[11, 13]' is invalid for input of size 99"
          ]
        }
      ]
    },
    {
      "cell_type": "markdown",
      "metadata": {
        "id": "nK3EcuIOISSR"
      },
      "source": [
        "Training loop"
      ]
    },
    {
      "cell_type": "code",
      "metadata": {
        "id": "E59hwZlAIVcL",
        "colab": {
          "base_uri": "https://localhost:8080/"
        },
        "outputId": "37740ba1-aeb5-4ea8-9e4c-80d446ed70a5"
      },
      "source": [
        "for epoch in range(num_epochs):\n",
        "    train_running_loss = 0.0\n",
        "    model = model.train()\n",
        "\n",
        "    ## training step\n",
        "    for i, (images, depth, phrases) in enumerate(trainloader):\n",
        "        if len(images) == 1:\n",
        "          continue\n",
        "\n",
        "        images = images.to(device)\n",
        "        depth = depth.to(device)\n",
        "        phrases = phrases.to(device)\n",
        "\n",
        "\n",
        "        im_out, phrases_out = model(images, depth, phrases)\n",
        "        sim = model.similarity(im_out, phrases_out)\n",
        "\n",
        "        # this simple loss just tries to make similarity scores of the positive\n",
        "        # image region-phrase pairs small\n",
        "        \n",
        "        \n",
        "        pos = sim.diag()\n",
        "        neg = sim.flatten()[1:].view(BATCH_SIZE-1, BATCH_SIZE+1)[:,:-1].reshape(BATCH_SIZE, BATCH_SIZE-1)\n",
        "\n",
        "        \n",
        "        valid_idx = (neg <1000).nonzero()\n",
        "        unique_rows = valid_idx[:, 0].unique()\n",
        "\n",
        "        \n",
        "        valid_row_idx = [valid_idx[valid_idx[:, 0] == u] for u in unique_rows]\n",
        "        ret = []\n",
        "        for v in valid_row_idx:\n",
        "            choice = torch.multinomial(torch.arange(v.size(0)).float(), 1)\n",
        "            ret.append(neg[v[choice].squeeze().chunk(2)])\n",
        "        ret = torch.stack(ret).flatten()\n",
        "     \n",
        "\n",
        "        \n",
        "        loss =  ((1 + ret - (sim.diag())).clamp(min=0)).mean()\n",
        "\n",
        "        optimizer.zero_grad()\n",
        "        loss.backward()\n",
        "\n",
        "        ## update model params\n",
        "        optimizer.step()\n",
        "\n",
        "        train_running_loss += loss.detach().item()\n",
        "  \n",
        "    model.eval()\n",
        "    val_acc = test_model(model, valloader)\n",
        "    print('Epoch: %d | Loss: %.4f | Val Accuracy: %.2f' \\\n",
        "          %(epoch, train_running_loss / i, val_acc))\n",
        "\n",
        "test_acc = test_model(model, testloader)\n",
        "print('Test Accuracy: %.2f'%(test_acc))       "
      ],
      "execution_count": null,
      "outputs": [
        {
          "output_type": "stream",
          "text": [
            "Epoch: 0 | Loss: 0.9208 | Val Accuracy: 39.55\n",
            "Epoch: 1 | Loss: 0.7728 | Val Accuracy: 41.06\n",
            "Epoch: 2 | Loss: 0.6725 | Val Accuracy: 42.67\n",
            "Epoch: 3 | Loss: 0.6107 | Val Accuracy: 46.55\n",
            "Epoch: 4 | Loss: 0.5619 | Val Accuracy: 44.18\n",
            "Epoch: 5 | Loss: 0.5284 | Val Accuracy: 47.78\n",
            "Epoch: 6 | Loss: 0.4984 | Val Accuracy: 43.71\n",
            "Epoch: 7 | Loss: 0.4664 | Val Accuracy: 47.11\n",
            "Epoch: 8 | Loss: 0.4417 | Val Accuracy: 47.21\n",
            "Epoch: 9 | Loss: 0.4383 | Val Accuracy: 46.93\n",
            "Epoch: 10 | Loss: 0.4131 | Val Accuracy: 46.07\n",
            "Epoch: 11 | Loss: 0.3963 | Val Accuracy: 47.78\n",
            "Epoch: 12 | Loss: 0.3766 | Val Accuracy: 45.22\n",
            "Epoch: 13 | Loss: 0.3724 | Val Accuracy: 48.16\n",
            "Epoch: 14 | Loss: 0.3570 | Val Accuracy: 47.87\n",
            "Epoch: 15 | Loss: 0.3388 | Val Accuracy: 47.78\n",
            "Epoch: 16 | Loss: 0.3337 | Val Accuracy: 48.16\n",
            "Epoch: 17 | Loss: 0.3328 | Val Accuracy: 48.72\n",
            "Epoch: 18 | Loss: 0.3188 | Val Accuracy: 49.39\n",
            "Epoch: 19 | Loss: 0.3105 | Val Accuracy: 50.14\n",
            "Epoch: 20 | Loss: 0.3132 | Val Accuracy: 48.82\n",
            "Epoch: 21 | Loss: 0.3013 | Val Accuracy: 48.06\n",
            "Epoch: 22 | Loss: 0.3052 | Val Accuracy: 48.53\n",
            "Epoch: 23 | Loss: 0.2864 | Val Accuracy: 47.59\n",
            "Epoch: 24 | Loss: 0.2813 | Val Accuracy: 47.97\n",
            "Test Accuracy: 51.03\n"
          ],
          "name": "stdout"
        }
      ]
    },
    {
      "cell_type": "code",
      "metadata": {
        "id": "WLVXXKdDPpu-"
      },
      "source": [
        ""
      ],
      "execution_count": null,
      "outputs": []
    },
    {
      "cell_type": "markdown",
      "metadata": {
        "id": "BZz7LAewgGAK"
      },
      "source": [
        "# Questions (100 points possible)\r\n",
        "This assignment is out of 100 points.  The student who reports the best performance on this task using a ResNet18 model will recieve 5 points extra credit."
      ]
    },
    {
      "cell_type": "markdown",
      "metadata": {
        "id": "xH4fiJirvp5q"
      },
      "source": [
        "## Part 1: Sampling method comparison (20 points)\r\n",
        "\r\n",
        "The loss function used in this problem is very simple and doesn't even use any negative samples.  Begin by replacing it with a triplet loss, and then explore the effect of different methods of sampling negatives.  In particular, provided a comparison between\r\n",
        "\r\n",
        "1. Triplet loss (no modifications)\r\n",
        "2. Top-K hard negatives (include description of how you selected \"K\")\r\n",
        "3. Semi-hard negatives\r\n",
        "4. Optional (10 points extra credit), Distanced-weighted sampling or other more complex sampling method"
      ]
    },
    {
      "cell_type": "markdown",
      "metadata": {
        "id": "PYjRD_Mavu_t"
      },
      "source": [
        "## Part 2: Selecting a loss function (15 points)\r\n",
        "\r\n",
        "Now that we have an idea of how well the triplet loss can do, let's compare to other popular loss functions.  In particular, compare the triplet loss with a contrastive loss and a normalized temperature-scaled cross entropy loss.  Report the performance of each loss, as well as how you tuned any associated hyperparameters."
      ]
    },
    {
      "cell_type": "markdown",
      "metadata": {
        "id": "b9D4heHYv2dN"
      },
      "source": [
        "## Part 3: Effectively increasing the batch size (25 points)\r\n",
        "\r\n",
        "Implement either proxies or a memory module to provide additional negative samples during training.  Along with reporting the results on the test set, also include a description what you used these methods to represent, and why this was a good choice."
      ]
    },
    {
      "cell_type": "markdown",
      "metadata": {
        "id": "JnAfoFvSv8X_"
      },
      "source": [
        "## Part 4: Incorporating depth information (30 points)\r\n",
        "\r\n",
        "Unlike many of the examples we discussed in class that only dealt with two modalities, in this dataset we have a third modality not used in the inital model: depth information.  In this problem you are tasked with trying to use this data to improve your task performance.  You can use a strategy we discussed in class (e.g. the 05 Metric Learning IV Brainstorming session), or come up with a new approach.\r\n",
        "\r\n",
        "As with the other problems, you are expected to not only provide the final results comparing your new model using depth with your model without depth, but also a motivation for selecting your approach."
      ]
    },
    {
      "cell_type": "markdown",
      "metadata": {
        "id": "FwMG8CpowJRT"
      },
      "source": [
        "## Part 5: Conclusions (10 points)\r\n",
        "\r\n",
        "Write a brief summary of your experiments (no more than 3 paragraphs).  For things that didn't work, try to give insight into why not, and what could be done to improve it (or point to a different experiment you did that does already improve on it).  Propose at least one potential approach that could further help improve performance on this task."
      ]
    }
  ]
}